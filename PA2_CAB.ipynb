{
 "cells": [
  {
   "cell_type": "markdown",
   "id": "51a23889-f2c9-4ed8-a3b5-1784f7a2f573",
   "metadata": {},
   "source": [
    "# Programming Assignment 2\n",
    "---\n",
    "**Author:** Carson Brower  \n",
    "**Version:** 1.0  \n",
    "**Semester:** Spring 2024 \n",
    "\n",
    "This *notebook* contains my solution(s) to **Programming Assignment 2**"
   ]
  },
  {
   "cell_type": "markdown",
   "id": "8af1b667-4a26-408f-8fcf-a913aeb193d9",
   "metadata": {},
   "source": [
    "### Problem 1- Printing Numbers "
   ]
  },
  {
   "cell_type": "code",
   "execution_count": 7,
   "id": "ce0ec9ab-c592-4151-9d21-1a4ebd980c5f",
   "metadata": {
    "tags": []
   },
   "outputs": [
    {
     "name": "stdout",
     "output_type": "stream",
     "text": [
      "0\n",
      "1\n",
      "2\n",
      "3\n",
      "4\n",
      "5\n",
      "6*\n",
      "7\n",
      "8\n",
      "9*\n",
      "10\n",
      "11\n",
      "12*\n",
      "13\n",
      "14\n",
      "15*\n",
      "16\n",
      "17\n",
      "18*\n",
      "19\n",
      "20\n",
      "21*\n",
      "22\n",
      "23\n",
      "24*\n",
      "25\n",
      "26\n",
      "27*\n",
      "28\n",
      "29\n",
      "30*\n",
      "31\n",
      "32\n",
      "33*\n",
      "34\n",
      "35\n",
      "36*\n",
      "37\n",
      "38\n",
      "39*\n",
      "40\n",
      "41\n",
      "42*\n",
      "43\n",
      "44\n",
      "45*\n",
      "46\n",
      "47\n",
      "48*\n",
      "49\n",
      "50\n",
      "51*\n",
      "52\n",
      "53\n",
      "54*\n",
      "55\n",
      "56\n",
      "57*\n",
      "58\n",
      "59\n",
      "60*\n",
      "61\n",
      "62\n",
      "63*\n",
      "64\n",
      "65\n",
      "66*\n",
      "67\n",
      "68\n",
      "69*\n",
      "70\n",
      "71\n",
      "72*\n",
      "73\n",
      "74\n",
      "75*\n",
      "76\n",
      "77\n",
      "78*\n",
      "79\n",
      "80\n",
      "81*\n",
      "82\n",
      "83\n",
      "84*\n",
      "85\n",
      "86\n",
      "87*\n",
      "88\n",
      "89\n",
      "90*\n",
      "91\n",
      "92\n",
      "93*\n",
      "94\n",
      "95\n",
      "96*\n",
      "97\n",
      "98\n",
      "99*\n",
      "100\n"
     ]
    }
   ],
   "source": [
    "for n in range(101): \n",
    "    if n % 3 == 0 and n != 0 and n != 3: \n",
    "        print(f\"{n}*\")\n",
    "    else: \n",
    "        print(n)"
   ]
  },
  {
   "cell_type": "markdown",
   "id": "bacb1ad0-1df0-4b5e-85fb-1b5954a7baa4",
   "metadata": {},
   "source": [
    "### Problem 2- Age Status "
   ]
  },
  {
   "cell_type": "code",
   "execution_count": 8,
   "id": "5545a6c7-24b2-4ca1-b74c-71be6c14b895",
   "metadata": {
    "tags": []
   },
   "outputs": [
    {
     "name": "stdin",
     "output_type": "stream",
     "text": [
      "Enter your age. Type \"0\" to quit. 0\n"
     ]
    }
   ],
   "source": [
    "age = int(input('Enter your age. Type \"0\" to quit.'))\n",
    "while(age > 0):\n",
    "    iage =int(age)\n",
    "    output= f'{age}'\n",
    "          \n",
    "    if(age == 0):\n",
    "        print(\"Stop\") \n",
    "    elif(age < 18): \n",
    "        print(\"You are a minor\") \n",
    "    elif(age >= 18 and age < 65):\n",
    "        print(\"You are an adult\")\n",
    "    else: \n",
    "        print(\"You are a senior citizen\")\n",
    "          \n",
    "    output = ''\n",
    "    print(output)\n",
    "    age = int(input('Enter you age. Type \"0\" to quit.'))"
   ]
  },
  {
   "cell_type": "markdown",
   "id": "65b8926b-8046-4955-a490-ebb0800d79cb",
   "metadata": {},
   "source": [
    "### Problem 3- Age Status v2"
   ]
  },
  {
   "cell_type": "code",
   "execution_count": 9,
   "id": "06391802-fecb-4811-9aa5-a996309be36d",
   "metadata": {
    "tags": []
   },
   "outputs": [
    {
     "name": "stdout",
     "output_type": "stream",
     "text": [
      "65\n",
      "senior citizen\n",
      " \n",
      "78\n",
      "senior citizen\n",
      " \n",
      "34\n",
      "adult\n",
      " \n",
      "56\n",
      "adult\n",
      " \n",
      "12\n",
      "minor\n",
      " \n",
      "9\n",
      "minor\n",
      " \n",
      "43\n",
      "adult\n",
      " \n",
      "67\n",
      "senior citizen\n",
      " \n"
     ]
    }
   ],
   "source": [
    "ages = [65,78,34,56,12,9,43,67]\n",
    "output = \" \"\n",
    "for age in ages:\n",
    "    print(f'{age}')\n",
    "    \n",
    "    if(age < 18):\n",
    "        print(\"minor\")\n",
    "    elif(age >= 18 and age <= 64):\n",
    "        print(\"adult\")\n",
    "    else: \n",
    "        print(\"senior citizen\")\n",
    "    print(output)"
   ]
  },
  {
   "cell_type": "markdown",
   "id": "6e523a98-46da-4a7c-81e8-89ad743407fb",
   "metadata": {},
   "source": [
    "### Problem 4- Calculating Pi"
   ]
  },
  {
   "cell_type": "code",
   "execution_count": 10,
   "id": "89f3353c-27c3-4d00-9f6d-06b35c094574",
   "metadata": {
    "tags": []
   },
   "outputs": [
    {
     "name": "stdin",
     "output_type": "stream",
     "text": [
      "Enter number of terms:  1000000\n"
     ]
    },
    {
     "name": "stdout",
     "output_type": "stream",
     "text": [
      "Pi =  3.1415916535897743\n"
     ]
    }
   ],
   "source": [
    "# I really had no idea how to do this one\n",
    "def leibniz(n):\n",
    "    total_sum = 0\n",
    "    for value in range(n):\n",
    "        term = (-1) ** value /(2*value+1)\n",
    "        total_sum = total_sum + term\n",
    "    return total_sum * 4\n",
    "terms = int(input(\"Enter number of terms: \"))\n",
    "pi = leibniz(terms)\n",
    "print(\"Pi = \", pi)"
   ]
  },
  {
   "cell_type": "code",
   "execution_count": null,
   "id": "0f3c1516-8bbb-4c86-b8a6-cb5a3b7fdcd2",
   "metadata": {},
   "outputs": [],
   "source": []
  },
  {
   "cell_type": "code",
   "execution_count": null,
   "id": "cca62edd-9506-4d8d-8a0c-ccc97c5d4cc9",
   "metadata": {},
   "outputs": [],
   "source": []
  }
 ],
 "metadata": {
  "kernelspec": {
   "display_name": "Python 3 (ipykernel)",
   "language": "python",
   "name": "python3"
  },
  "language_info": {
   "codemirror_mode": {
    "name": "ipython",
    "version": 3
   },
   "file_extension": ".py",
   "mimetype": "text/x-python",
   "name": "python",
   "nbconvert_exporter": "python",
   "pygments_lexer": "ipython3",
   "version": "3.11.5"
  }
 },
 "nbformat": 4,
 "nbformat_minor": 5
}
